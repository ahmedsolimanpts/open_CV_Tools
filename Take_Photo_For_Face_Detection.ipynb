{
 "cells": [
  {
   "cell_type": "markdown",
   "id": "f0c80a48",
   "metadata": {},
   "source": [
    "# collect Images"
   ]
  },
  {
   "cell_type": "code",
   "execution_count": 21,
   "id": "86742d31",
   "metadata": {},
   "outputs": [],
   "source": [
    "def Capture_photo(file_path,capture_button,quit_button,camera_id=0):\n",
    "    '''\n",
    "    This Function used for Capture Image Used For Face Detection and Save them In a File Path We Choose\n",
    "    inputs :\n",
    "    file_path      -: This is the folder path that we will save the images we Take\n",
    "    capture_button -: This a Keyboard Button Will Use To Capture Images\n",
    "    quit_button    -: This a Keyboard Button Will Use To Quit From The Loop\n",
    "    camera_id      -: this the number Of The Camera We Want To use To Take Photo(EX:Webcam = 0) Default is 0\n",
    "    '''\n",
    "    # Import standard dependencies\n",
    "    import cv2\n",
    "    import os\n",
    "    # Import uuid library to generate unique image names\n",
    "    import uuid\n",
    "    \n",
    "    if os.path.exists(file_path):\n",
    "        pass\n",
    "    else:\n",
    "        os.makedirs(file_path)\n",
    "    \n",
    "    # Establish a connection to the webcam\n",
    "    cap = cv2.VideoCapture(camera_id)\n",
    "    while cap.isOpened(): \n",
    "        ret, frame = cap.read()\n",
    "\n",
    "        # Cut down frame to 250x250px\n",
    "        frame = frame[120:120+250,200:200+250, :]\n",
    "\n",
    "        # Collect Photos \n",
    "        if cv2.waitKey(1) & 0XFF == ord(capture_button):\n",
    "            # Create the unique file path \n",
    "            imgname = os.path.join(file_path, '{}.jpg'.format(uuid.uuid1()))\n",
    "            # Write out anchor image\n",
    "            cv2.imwrite(imgname, frame)\n",
    "\n",
    "\n",
    "        # Show image back to screen\n",
    "        cv2.imshow('Image Collection', frame)\n",
    "\n",
    "        # Breaking gracefully\n",
    "        if cv2.waitKey(1) & 0XFF == ord(quit_button):\n",
    "            break\n",
    "\n",
    "    # Release the webcam\n",
    "    cap.release()\n",
    "    # Close the image show frame\n",
    "    cv2.destroyAllWindows()"
   ]
  },
  {
   "cell_type": "code",
   "execution_count": 22,
   "id": "2db49f02",
   "metadata": {},
   "outputs": [],
   "source": [
    "# Example HOW CAN WE USE\n",
    "Capture_photo('data','a','q')"
   ]
  }
 ],
 "metadata": {
  "kernelspec": {
   "display_name": "Python 3 (ipykernel)",
   "language": "python",
   "name": "python3"
  },
  "language_info": {
   "codemirror_mode": {
    "name": "ipython",
    "version": 3
   },
   "file_extension": ".py",
   "mimetype": "text/x-python",
   "name": "python",
   "nbconvert_exporter": "python",
   "pygments_lexer": "ipython3",
   "version": "3.8.12"
  }
 },
 "nbformat": 4,
 "nbformat_minor": 5
}
